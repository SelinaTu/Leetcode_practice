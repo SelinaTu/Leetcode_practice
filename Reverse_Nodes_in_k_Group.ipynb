{
  "nbformat": 4,
  "nbformat_minor": 0,
  "metadata": {
    "colab": {
      "provenance": []
    },
    "kernelspec": {
      "name": "python3",
      "display_name": "Python 3"
    },
    "language_info": {
      "name": "python"
    }
  },
  "cells": [
    {
      "cell_type": "code",
      "execution_count": null,
      "metadata": {
        "id": "cJbeTLJPzySo"
      },
      "outputs": [],
      "source": [
        "class Solution:\n",
        "\n",
        "    def reverseLinkedList(self, begin: Optional[ListNode], end: Optional[ListNode]) -> Optional[ListNode]:\n",
        "        prev = None\n",
        "        while begin != end:\n",
        "            next = begin.next\n",
        "            begin.next = prev\n",
        "            prev = begin\n",
        "            begin = next\n",
        "\n",
        "        return prev\n",
        "\n",
        "\n",
        "    def reverseKGroup(self, head: Optional[ListNode], k: int) -> Optional[ListNode]:\n",
        "        if k == 1 or head is None or head.next is None:\n",
        "            return head\n",
        "\n",
        "        dummy = ListNode(0, head)\n",
        "        back, forward = dummy, head\n",
        "\n",
        "        while back is not None:\n",
        "            groupLen = 0\n",
        "            while groupLen < k and forward is not None:\n",
        "                forward = forward.next\n",
        "                groupLen += 1\n",
        "\n",
        "            if groupLen != k:\n",
        "                break\n",
        "\n",
        "            last = back.next\n",
        "\n",
        "            back.next = self.reverseLinkedList(back.next, forward)\n",
        "\n",
        "            last.next = forward\n",
        "            back = last\n",
        "\n",
        "        return dummy.next"
      ]
    }
  ]
}